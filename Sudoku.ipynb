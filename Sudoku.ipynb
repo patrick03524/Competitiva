{
  "nbformat": 4,
  "nbformat_minor": 0,
  "metadata": {
    "colab": {
      "name": "Sudoku.ipynb",
      "provenance": [],
      "authorship_tag": "ABX9TyO6VpF7IN3OEGwhVHYuSnrE",
      "include_colab_link": true
    },
    "kernelspec": {
      "name": "python3",
      "display_name": "Python 3"
    }
  },
  "cells": [
    {
      "cell_type": "markdown",
      "metadata": {
        "id": "view-in-github",
        "colab_type": "text"
      },
      "source": [
        "<a href=\"https://colab.research.google.com/github/patrick03524/Competitiva/blob/main/Sudoku.ipynb\" target=\"_parent\"><img src=\"https://colab.research.google.com/assets/colab-badge.svg\" alt=\"Open In Colab\"/></a>"
      ]
    },
    {
      "cell_type": "code",
      "metadata": {
        "id": "VANF40sYSGDH"
      },
      "source": [
        "##Definición de Librerías\r\n",
        "\r\n",
        "import matplotlib\r\n",
        "import matplotlib.pyplot as plt\r\n",
        "import numpy as np\r\n",
        "import time"
      ],
      "execution_count": 1,
      "outputs": []
    },
    {
      "cell_type": "code",
      "metadata": {
        "id": "h3mN3hc_YFRv",
        "colab": {
          "base_uri": "https://localhost:8080/"
        },
        "outputId": "ba82d3a7-b4d1-4b33-dc1a-3d5d034ff4d4"
      },
      "source": [
        "##Definición del Tablero como entrada\r\n",
        "\r\n",
        "tablero2 = [[0,0,0,0,0,0,0,0,0],\r\n",
        "           [0,0,0,0,0,0,0,0,0],\r\n",
        "           [0,0,0,0,0,0,0,0,0],\r\n",
        "           [0,0,0,0,0,0,0,0,0],\r\n",
        "           [0,0,0,0,0,0,0,0,0],\r\n",
        "           [0,0,0,0,0,0,0,0,0],\r\n",
        "           [0,0,0,0,0,0,0,0,0],\r\n",
        "           [0,0,0,0,0,0,0,0,0],\r\n",
        "           [0,0,0,0,0,0,0,0,0]]\r\n",
        "print(np.matrix(tablero2))"
      ],
      "execution_count": 2,
      "outputs": [
        {
          "output_type": "stream",
          "text": [
            "[[0 0 0 0 0 0 0 0 0]\n",
            " [0 0 0 0 0 0 0 0 0]\n",
            " [0 0 0 0 0 0 0 0 0]\n",
            " [0 0 0 0 0 0 0 0 0]\n",
            " [0 0 0 0 0 0 0 0 0]\n",
            " [0 0 0 0 0 0 0 0 0]\n",
            " [0 0 0 0 0 0 0 0 0]\n",
            " [0 0 0 0 0 0 0 0 0]\n",
            " [0 0 0 0 0 0 0 0 0]]\n"
          ],
          "name": "stdout"
        }
      ]
    },
    {
      "cell_type": "code",
      "metadata": {
        "id": "4L7xA-8eTWNA",
        "colab": {
          "base_uri": "https://localhost:8080/"
        },
        "outputId": "21655120-2173-4444-8b69-01e520bd82a9"
      },
      "source": [
        "##Definición del Tablero como ejemplo\r\n",
        "\r\n",
        "tablero = [[5,3,0,0,7,0,0,0,0],\r\n",
        "           [6,0,0,1,9,5,0,0,0],\r\n",
        "           [0,9,8,0,0,0,0,6,0],\r\n",
        "           [8,0,0,0,6,0,0,0,3],\r\n",
        "           [4,0,0,8,0,3,0,0,1],\r\n",
        "           [7,0,0,0,2,0,0,0,6],\r\n",
        "           [0,6,0,0,0,0,2,8,0],\r\n",
        "           [0,0,0,4,1,9,0,0,5],\r\n",
        "           [0,0,0,0,8,0,0,7,9]] \r\n",
        "print(np.matrix(tablero))"
      ],
      "execution_count": 4,
      "outputs": [
        {
          "output_type": "stream",
          "text": [
            "[[5 3 0 0 7 0 0 0 0]\n",
            " [6 0 0 1 9 5 0 0 0]\n",
            " [0 9 8 0 0 0 0 6 0]\n",
            " [8 0 0 0 6 0 0 0 3]\n",
            " [4 0 0 8 0 3 0 0 1]\n",
            " [7 0 0 0 2 0 0 0 6]\n",
            " [0 6 0 0 0 0 2 8 0]\n",
            " [0 0 0 4 1 9 0 0 5]\n",
            " [0 0 0 0 8 0 0 7 9]]\n"
          ],
          "name": "stdout"
        }
      ]
    },
    {
      "cell_type": "code",
      "metadata": {
        "id": "cqlxE9xJYdxH"
      },
      "source": [
        "##Asignación del Tablero usado con el Tablero de Entrada\r\n",
        "\r\n",
        "#tablero = tablero2"
      ],
      "execution_count": 6,
      "outputs": []
    },
    {
      "cell_type": "code",
      "metadata": {
        "id": "y4WPUdeqUsD4"
      },
      "source": [
        "##Definición función possible que comprobará si es posible colocar un \r\n",
        "##determinado valor dentro del tablero verificando en primer lugar por \r\n",
        "##filas y luego por columnas\r\n",
        "\r\n",
        "def possible(y,x,n):\r\n",
        "  global tablero\r\n",
        "  for i in range(0,9):\r\n",
        "    if(tablero[y][i] == n):\r\n",
        "      return False\r\n",
        "  for i in range(0,9):\r\n",
        "    if(tablero[i][x] == n):\r\n",
        "      return False\r\n",
        "  x0 = (x//3)*3\r\n",
        "  y0 = (y//3)*3\r\n",
        "  for i in range(0,3):\r\n",
        "    for j in range(0,3):\r\n",
        "      if(tablero[y0+i][x0+j] == n):\r\n",
        "        return False\r\n",
        "  return True"
      ],
      "execution_count": 5,
      "outputs": []
    },
    {
      "cell_type": "code",
      "metadata": {
        "id": "WFLoViglV7fa"
      },
      "source": [
        "##Definición de la función principal que resolverá todo el sudoku\r\n",
        "##llamando a la función possible(y,x,n) de manera greedy\r\n",
        "\r\n",
        "def solve():\r\n",
        "  global tablero\r\n",
        "  for y in range(9):\r\n",
        "    for x in range(9):\r\n",
        "      if tablero[y][x] == 0:\r\n",
        "        for n in range(1,10):\r\n",
        "          if possible(y,x,n):\r\n",
        "            tablero[y][x] = n\r\n",
        "            solve()\r\n",
        "            tablero[y][x] = 0\r\n",
        "        return\r\n",
        "  #print(np.matrix(tablero))"
      ],
      "execution_count": 7,
      "outputs": []
    },
    {
      "cell_type": "code",
      "metadata": {
        "colab": {
          "base_uri": "https://localhost:8080/"
        },
        "id": "2ag2NVyEXaTa",
        "outputId": "c497a7be-7759-4d73-b103-1c8905ff0421"
      },
      "source": [
        "##LLamada de la función que resolverá el Sudoku definiendo y retornando\r\n",
        "##los tiempos que demora\r\n",
        "\r\n",
        "inicio = time.time()\r\n",
        "solve()\r\n",
        "final = time.time()\r\n",
        "print(np.matrix(tablero))\r\n",
        "print(f\"He tardado {round(final - inicio, 1)} segundos.\")\r\n",
        "print(\"YAY\")"
      ],
      "execution_count": 8,
      "outputs": [
        {
          "output_type": "stream",
          "text": [
            "[[5 3 0 0 7 0 0 0 0]\n",
            " [6 0 0 1 9 5 0 0 0]\n",
            " [0 9 8 0 0 0 0 6 0]\n",
            " [8 0 0 0 6 0 0 0 3]\n",
            " [4 0 0 8 0 3 0 0 1]\n",
            " [7 0 0 0 2 0 0 0 6]\n",
            " [0 6 0 0 0 0 2 8 0]\n",
            " [0 0 0 4 1 9 0 0 5]\n",
            " [0 0 0 0 8 0 0 7 9]]\n",
            "He tardado 0.1 segundos.\n",
            "YAY\n"
          ],
          "name": "stdout"
        }
      ]
    }
  ]
}