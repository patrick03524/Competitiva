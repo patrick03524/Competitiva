{
  "nbformat": 4,
  "nbformat_minor": 0,
  "metadata": {
    "colab": {
      "name": "tangram.ipynb",
      "provenance": [],
      "collapsed_sections": [],
      "include_colab_link": true
    },
    "kernelspec": {
      "name": "python3",
      "display_name": "Python 3"
    }
  },
  "cells": [
    {
      "cell_type": "markdown",
      "metadata": {
        "id": "view-in-github",
        "colab_type": "text"
      },
      "source": [
        "<a href=\"https://colab.research.google.com/github/patrick03524/Competitiva/blob/main/tangram.ipynb\" target=\"_parent\"><img src=\"https://colab.research.google.com/assets/colab-badge.svg\" alt=\"Open In Colab\"/></a>"
      ]
    },
    {
      "cell_type": "code",
      "metadata": {
        "id": "4hQZbOxGYiLF"
      },
      "source": [
        "import matplotlib\r\n",
        "import matplotlib.pyplot as plt\r\n",
        "import numpy as np\r\n",
        "import time"
      ],
      "execution_count": 2,
      "outputs": []
    },
    {
      "cell_type": "code",
      "metadata": {
        "id": "-sJpsUG5ZY9l"
      },
      "source": [
        "#Definición de Limites\r\n",
        "tablero_max = [[0,0],[0,120],[120,120],[120,0]]\r\n",
        "x_max = 120\r\n",
        "y_max = 120\r\n",
        "#Definición de Figuras\r\n",
        "figura1 = [[0,0],[0,120],[60,60]]\r\n",
        "f1_xmax = 120\r\n",
        "f2_ymax = 60"
      ],
      "execution_count": 3,
      "outputs": []
    },
    {
      "cell_type": "code",
      "metadata": {
        "id": "qL9dw-GLDX7A"
      },
      "source": [
        "##Definición de la función que se encargará de aumentar\r\n",
        "##los valores en el tangram\r\n",
        "\r\n",
        "def increase():\r\n",
        "    tangram.count += 1"
      ],
      "execution_count": 4,
      "outputs": []
    },
    {
      "cell_type": "code",
      "metadata": {
        "id": "IoBufZJtDdy9"
      },
      "source": [
        "##Definición de la Clase Tangram\r\n",
        "\r\n",
        "class tangram:\r\n",
        "    count = 0\r\n",
        "\r\n",
        "    def __init__(self):\r\n",
        "        self.name = 'xyz'\r\n",
        "        self.salary = 4000\r\n",
        "\r\n",
        "    def printCount(self):\r\n",
        "        print(self.count * 10)"
      ],
      "execution_count": 5,
      "outputs": []
    },
    {
      "cell_type": "code",
      "metadata": {
        "id": "2RZ6CucKDtld"
      },
      "source": [
        "##Definición de Función para medir el tiempo\r\n",
        "\r\n",
        "def medirTiempo():\r\n",
        "    s1 = tangram()\r\n",
        "    inicio = time.time()\r\n",
        "    for i in range(0, 10, 1):\r\n",
        "        s1.printCount()\r\n",
        "        increase()\r\n",
        "    final = time.time()\r\n",
        "    print()\r\n",
        "    print(f\"He tardado {round(final - inicio, 10)} segundos.\")"
      ],
      "execution_count": 6,
      "outputs": []
    },
    {
      "cell_type": "code",
      "metadata": {
        "id": "BrmKzojwD9tN"
      },
      "source": [
        "##Definición de la Clase Punto\r\n",
        "\r\n",
        "class Point:\r\n",
        "    def __init__(self, x, y):\r\n",
        "        self.x = x\r\n",
        "        self.y = y"
      ],
      "execution_count": 7,
      "outputs": []
    },
    {
      "cell_type": "code",
      "metadata": {
        "id": "zv4bJlmNEC0_"
      },
      "source": [
        "##Definción de los métodos de la Clase Punto\r\n",
        "\r\n",
        "def Left_index(points):\r\n",
        "    minn = 0\r\n",
        "    for i in range(1, len(points)):\r\n",
        "        if points[i].x < points[minn].x:\r\n",
        "            minn = i\r\n",
        "        elif points[i].x == points[minn].x:\r\n",
        "            if points[i].y > points[minn].y:\r\n",
        "                minn = i\r\n",
        "    return minn\r\n",
        "\r\n",
        "\r\n",
        "def orientation(p, q, r):\r\n",
        "    val = (q.y - p.y) * (r.x - q.x) - \\\r\n",
        "          (q.x - p.x) * (r.y - q.y)\r\n",
        "\r\n",
        "    if val == 0:\r\n",
        "        return 0\r\n",
        "    elif val > 0:\r\n",
        "        return 1\r\n",
        "    else:\r\n",
        "        return 2"
      ],
      "execution_count": 8,
      "outputs": []
    },
    {
      "cell_type": "code",
      "metadata": {
        "id": "zjEyvi4bEKzF"
      },
      "source": [
        "##Definición del Convex Hull para el Tangram\r\n",
        "\r\n",
        "def convexHull(points, n):\r\n",
        "    if n < 3:\r\n",
        "        return\r\n",
        "    val_lef = Left_index(points)\r\n",
        "    hull = []\r\n",
        "    p = val_lef\r\n",
        "    q = 0\r\n",
        "    while True:\r\n",
        "        hull.append(p)\r\n",
        "        q = (p + 1) % n\r\n",
        "        for i in range(n):\r\n",
        "            if (orientation(points[p],\r\n",
        "                            points[i], points[q]) == 2):\r\n",
        "                q = i\r\n",
        "        p = q\r\n",
        "        if p == val_lef:\r\n",
        "            break\r\n",
        "    list_hull = []\r\n",
        "    for each in hull:\r\n",
        "        list_hull.append(Point(points[each].x, points[each].y))\r\n",
        "        print(points[each].x, points[each].y)\r\n",
        "    # print(list_hull)\r\n",
        "    return list_hull"
      ],
      "execution_count": 9,
      "outputs": []
    },
    {
      "cell_type": "code",
      "metadata": {
        "colab": {
          "base_uri": "https://localhost:8080/",
          "height": 354
        },
        "id": "HQMjhJqZEa0W",
        "outputId": "312a9f83-35bc-45e1-fdce-f108b365d6f3"
      },
      "source": [
        "##Definición de los métodos y el main para hacer un plot del tangram\r\n",
        "\r\n",
        "plt.rcParams['savefig.facecolor'] = \"0.8\"\r\n",
        "\r\n",
        "def example_plot(ax, fontsize=12):\r\n",
        "    ax.plot([1, 2])\r\n",
        "\r\n",
        "    ax.locator_params(nbins=3)\r\n",
        "    ax.set_xlabel('x-label', fontsize=fontsize)\r\n",
        "    ax.set_ylabel('y-label', fontsize=fontsize)\r\n",
        "    ax.set_title('Title', fontsize=fontsize)\r\n",
        "\r\n",
        "if __name__ == '__main__':\r\n",
        "    points_x = [0,0,120,120]\r\n",
        "    points_y = [0,120,120,0]\r\n",
        "    #points_x = []\r\n",
        "    #points_y = []\r\n",
        "    list_points = []\r\n",
        "    for i in range(len(points_x)):\r\n",
        "        list_points.append(Point(points_x[i], points_y[i]))\r\n",
        "    list_hull = convexHull(list_points, len(list_points))\r\n",
        "    # print(list_hull)\r\n",
        "    hull_points_x = []\r\n",
        "    hull_points_y = []\r\n",
        "    print()\r\n",
        "    for i in range(len(list_hull)):\r\n",
        "        hull_points_x.append(list_hull[i].x)\r\n",
        "        hull_points_y.append(list_hull[i].y)\r\n",
        "    hull_points_x.append(list_hull[0].x)\r\n",
        "    hull_points_y.append(list_hull[0].y)\r\n",
        "    range_ax = [0, 10, 0, 20]\r\n",
        "    plt.plot(hull_points_x, hull_points_y)\r\n",
        "    plt.plot(points_x, points_y, 'ro')\r\n",
        "    plt.axis(range_ax);\r\n",
        "    plt.ylabel('graphic')\r\n",
        "    plt.show()\r\n"
      ],
      "execution_count": 11,
      "outputs": [
        {
          "output_type": "stream",
          "text": [
            "0 120\n",
            "0 0\n",
            "120 0\n",
            "120 120\n",
            "\n"
          ],
          "name": "stdout"
        },
        {
          "output_type": "display_data",
          "data": {
            "image/png": "[encoded data removed]",
            "text/plain": [
              "<Figure size 432x288 with 1 Axes>"
            ]
          },
          "metadata": {
            "tags": [],
            "needs_background": "light"
          }
        }
      ]
    }
  ]
}